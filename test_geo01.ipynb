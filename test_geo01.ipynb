{
 "cells": [
  {
   "cell_type": "markdown",
   "metadata": {},
   "source": [
    "\n",
    "# Notebook to show location of a list of given direccions\n",
    "\n"
   ]
  },
  {
   "cell_type": "code",
   "execution_count": 1,
   "metadata": {},
   "outputs": [],
   "source": [
    "_ = !pip install plotly\n",
    "_ = !pip install --upgrade nbformat"
   ]
  },
  {
   "cell_type": "code",
   "execution_count": 2,
   "metadata": {},
   "outputs": [
    {
     "data": {
      "text/html": [
       "<div>\n",
       "<style scoped>\n",
       "    .dataframe tbody tr th:only-of-type {\n",
       "        vertical-align: middle;\n",
       "    }\n",
       "\n",
       "    .dataframe tbody tr th {\n",
       "        vertical-align: top;\n",
       "    }\n",
       "\n",
       "    .dataframe thead th {\n",
       "        text-align: right;\n",
       "    }\n",
       "</style>\n",
       "<table border=\"1\" class=\"dataframe\">\n",
       "  <thead>\n",
       "    <tr style=\"text-align: right;\">\n",
       "      <th></th>\n",
       "      <th>fecha</th>\n",
       "      <th>nro_captura</th>\n",
       "      <th>hora</th>\n",
       "      <th>full_address</th>\n",
       "      <th>direccion</th>\n",
       "      <th>altura</th>\n",
       "      <th>Cod</th>\n",
       "      <th>Ciudad</th>\n",
       "      <th>Provincia</th>\n",
       "      <th>latitud</th>\n",
       "      <th>longitud</th>\n",
       "      <th>nota</th>\n",
       "    </tr>\n",
       "  </thead>\n",
       "  <tbody>\n",
       "    <tr>\n",
       "      <th>0</th>\n",
       "      <td>29/10/2022</td>\n",
       "      <td>1.0</td>\n",
       "      <td>14:57</td>\n",
       "      <td>Andres Chazarreta 7185</td>\n",
       "      <td>Andres Chazarreta</td>\n",
       "      <td>7185.0</td>\n",
       "      <td>R8402</td>\n",
       "      <td>San Carlos de Bariloche</td>\n",
       "      <td>Rio Negro</td>\n",
       "      <td>-41,1284742</td>\n",
       "      <td>-71,3896361</td>\n",
       "      <td>NaN</td>\n",
       "    </tr>\n",
       "    <tr>\n",
       "      <th>1</th>\n",
       "      <td>29/10/2022</td>\n",
       "      <td>NaN</td>\n",
       "      <td>17:00</td>\n",
       "      <td>Onelli 447</td>\n",
       "      <td>Onelli</td>\n",
       "      <td>447.0</td>\n",
       "      <td>R8402</td>\n",
       "      <td>San Carlos de Bariloche</td>\n",
       "      <td>Rio Negro</td>\n",
       "      <td>-41,1374151</td>\n",
       "      <td>-71,298046</td>\n",
       "      <td>fuimos con personal policial a verificar</td>\n",
       "    </tr>\n",
       "    <tr>\n",
       "      <th>2</th>\n",
       "      <td>30/10/2022</td>\n",
       "      <td>3.0</td>\n",
       "      <td>21:11</td>\n",
       "      <td>Avenida de los Pioneros</td>\n",
       "      <td>Avenida de los Pioneros</td>\n",
       "      <td>NaN</td>\n",
       "      <td>R8402</td>\n",
       "      <td>San Carlos de Bariloche</td>\n",
       "      <td>Rio Negro</td>\n",
       "      <td>-41,1316624</td>\n",
       "      <td>-71,3589444</td>\n",
       "      <td>farmacia la cruz</td>\n",
       "    </tr>\n",
       "    <tr>\n",
       "      <th>3</th>\n",
       "      <td>30/10/2022</td>\n",
       "      <td>4.0</td>\n",
       "      <td>2:06</td>\n",
       "      <td>Moseñor Angelelli 7251</td>\n",
       "      <td>Moseñor Angelelli</td>\n",
       "      <td>7251.0</td>\n",
       "      <td>R8402</td>\n",
       "      <td>San Carlos de Bariloche</td>\n",
       "      <td>Rio Negro</td>\n",
       "      <td>-41,1294891</td>\n",
       "      <td>-71,3907539</td>\n",
       "      <td>NaN</td>\n",
       "    </tr>\n",
       "    <tr>\n",
       "      <th>4</th>\n",
       "      <td>31/10/2022</td>\n",
       "      <td>5.0</td>\n",
       "      <td>21:08</td>\n",
       "      <td>Avenida Exequiel Bustillo 8842</td>\n",
       "      <td>Avenida Exequiel Bustillo</td>\n",
       "      <td>8842.0</td>\n",
       "      <td>R8402</td>\n",
       "      <td>San Carlos de Bariloche</td>\n",
       "      <td>Rio Negro</td>\n",
       "      <td>-41,1171837</td>\n",
       "      <td>-71,4044</td>\n",
       "      <td>NaN</td>\n",
       "    </tr>\n",
       "  </tbody>\n",
       "</table>\n",
       "</div>"
      ],
      "text/plain": [
       "        fecha  nro_captura   hora                    full_address  \\\n",
       "0  29/10/2022          1.0  14:57          Andres Chazarreta 7185   \n",
       "1  29/10/2022          NaN  17:00                      Onelli 447   \n",
       "2  30/10/2022          3.0  21:11         Avenida de los Pioneros   \n",
       "3  30/10/2022          4.0   2:06          Moseñor Angelelli 7251   \n",
       "4  31/10/2022          5.0  21:08  Avenida Exequiel Bustillo 8842   \n",
       "\n",
       "                   direccion  altura    Cod                   Ciudad  \\\n",
       "0          Andres Chazarreta  7185.0  R8402  San Carlos de Bariloche   \n",
       "1                     Onelli   447.0  R8402  San Carlos de Bariloche   \n",
       "2    Avenida de los Pioneros     NaN  R8402  San Carlos de Bariloche   \n",
       "3          Moseñor Angelelli  7251.0  R8402  San Carlos de Bariloche   \n",
       "4  Avenida Exequiel Bustillo  8842.0  R8402  San Carlos de Bariloche   \n",
       "\n",
       "   Provincia      latitud     longitud  \\\n",
       "0  Rio Negro  -41,1284742  -71,3896361   \n",
       "1  Rio Negro  -41,1374151   -71,298046   \n",
       "2  Rio Negro  -41,1316624  -71,3589444   \n",
       "3  Rio Negro  -41,1294891  -71,3907539   \n",
       "4  Rio Negro  -41,1171837     -71,4044   \n",
       "\n",
       "                                       nota  \n",
       "0                                       NaN  \n",
       "1  fuimos con personal policial a verificar  \n",
       "2                          farmacia la cruz  \n",
       "3                                       NaN  \n",
       "4                                       NaN  "
      ]
     },
     "execution_count": 2,
     "metadata": {},
     "output_type": "execute_result"
    }
   ],
   "source": [
    "import pandas as pd\n",
    "\n",
    "df = pd.read_csv('./datos.csv')\n",
    "df.head()\n"
   ]
  },
  {
   "cell_type": "code",
   "execution_count": 3,
   "metadata": {},
   "outputs": [],
   "source": [
    "#change , to . in lat and lon\n",
    "df['latitud'] = df['latitud'].str.replace(',','.')\n",
    "df['longitud'] = df['longitud'].str.replace(',','.')\n",
    "#change to float\n",
    "df['latitud'] = df['latitud'].astype(float)\n",
    "df['longitud'] = df['longitud'].astype(float)"
   ]
  },
  {
   "cell_type": "code",
   "execution_count": 4,
   "metadata": {},
   "outputs": [
    {
     "data": {
      "text/html": [
       "<div>\n",
       "<style scoped>\n",
       "    .dataframe tbody tr th:only-of-type {\n",
       "        vertical-align: middle;\n",
       "    }\n",
       "\n",
       "    .dataframe tbody tr th {\n",
       "        vertical-align: top;\n",
       "    }\n",
       "\n",
       "    .dataframe thead th {\n",
       "        text-align: right;\n",
       "    }\n",
       "</style>\n",
       "<table border=\"1\" class=\"dataframe\">\n",
       "  <thead>\n",
       "    <tr style=\"text-align: right;\">\n",
       "      <th></th>\n",
       "      <th>fecha</th>\n",
       "      <th>nro_captura</th>\n",
       "      <th>hora</th>\n",
       "      <th>full_address</th>\n",
       "      <th>direccion</th>\n",
       "      <th>altura</th>\n",
       "      <th>Cod</th>\n",
       "      <th>Ciudad</th>\n",
       "      <th>Provincia</th>\n",
       "      <th>latitud</th>\n",
       "      <th>longitud</th>\n",
       "      <th>nota</th>\n",
       "    </tr>\n",
       "  </thead>\n",
       "  <tbody>\n",
       "    <tr>\n",
       "      <th>0</th>\n",
       "      <td>29/10/2022</td>\n",
       "      <td>1.0</td>\n",
       "      <td>14:57</td>\n",
       "      <td>Andres Chazarreta 7185</td>\n",
       "      <td>Andres Chazarreta</td>\n",
       "      <td>7185.0</td>\n",
       "      <td>R8402</td>\n",
       "      <td>San Carlos de Bariloche</td>\n",
       "      <td>Rio Negro</td>\n",
       "      <td>-41.128474</td>\n",
       "      <td>-71.389636</td>\n",
       "      <td>NaN</td>\n",
       "    </tr>\n",
       "    <tr>\n",
       "      <th>1</th>\n",
       "      <td>29/10/2022</td>\n",
       "      <td>NaN</td>\n",
       "      <td>17:00</td>\n",
       "      <td>Onelli 447</td>\n",
       "      <td>Onelli</td>\n",
       "      <td>447.0</td>\n",
       "      <td>R8402</td>\n",
       "      <td>San Carlos de Bariloche</td>\n",
       "      <td>Rio Negro</td>\n",
       "      <td>-41.137415</td>\n",
       "      <td>-71.298046</td>\n",
       "      <td>fuimos con personal policial a verificar</td>\n",
       "    </tr>\n",
       "    <tr>\n",
       "      <th>2</th>\n",
       "      <td>30/10/2022</td>\n",
       "      <td>3.0</td>\n",
       "      <td>21:11</td>\n",
       "      <td>Avenida de los Pioneros</td>\n",
       "      <td>Avenida de los Pioneros</td>\n",
       "      <td>NaN</td>\n",
       "      <td>R8402</td>\n",
       "      <td>San Carlos de Bariloche</td>\n",
       "      <td>Rio Negro</td>\n",
       "      <td>-41.131662</td>\n",
       "      <td>-71.358944</td>\n",
       "      <td>farmacia la cruz</td>\n",
       "    </tr>\n",
       "    <tr>\n",
       "      <th>3</th>\n",
       "      <td>30/10/2022</td>\n",
       "      <td>4.0</td>\n",
       "      <td>2:06</td>\n",
       "      <td>Moseñor Angelelli 7251</td>\n",
       "      <td>Moseñor Angelelli</td>\n",
       "      <td>7251.0</td>\n",
       "      <td>R8402</td>\n",
       "      <td>San Carlos de Bariloche</td>\n",
       "      <td>Rio Negro</td>\n",
       "      <td>-41.129489</td>\n",
       "      <td>-71.390754</td>\n",
       "      <td>NaN</td>\n",
       "    </tr>\n",
       "    <tr>\n",
       "      <th>4</th>\n",
       "      <td>31/10/2022</td>\n",
       "      <td>5.0</td>\n",
       "      <td>21:08</td>\n",
       "      <td>Avenida Exequiel Bustillo 8842</td>\n",
       "      <td>Avenida Exequiel Bustillo</td>\n",
       "      <td>8842.0</td>\n",
       "      <td>R8402</td>\n",
       "      <td>San Carlos de Bariloche</td>\n",
       "      <td>Rio Negro</td>\n",
       "      <td>-41.117184</td>\n",
       "      <td>-71.404400</td>\n",
       "      <td>NaN</td>\n",
       "    </tr>\n",
       "    <tr>\n",
       "      <th>5</th>\n",
       "      <td>02/11/2022</td>\n",
       "      <td>6.0</td>\n",
       "      <td>18:45</td>\n",
       "      <td>Avenida Exequiel Bustillo 7966</td>\n",
       "      <td>Avenida Exequiel Bustillo</td>\n",
       "      <td>7966.0</td>\n",
       "      <td>R8402</td>\n",
       "      <td>San Carlos de Bariloche</td>\n",
       "      <td>Rio Negro</td>\n",
       "      <td>-41.121872</td>\n",
       "      <td>-71.396660</td>\n",
       "      <td>NaN</td>\n",
       "    </tr>\n",
       "    <tr>\n",
       "      <th>6</th>\n",
       "      <td>03/11/2022</td>\n",
       "      <td>7.0</td>\n",
       "      <td>10:43</td>\n",
       "      <td>Tarrago Ros 350</td>\n",
       "      <td>Tarrago Ros</td>\n",
       "      <td>350.0</td>\n",
       "      <td>R8402</td>\n",
       "      <td>San Carlos de Bariloche</td>\n",
       "      <td>Rio Negro</td>\n",
       "      <td>-41.129780</td>\n",
       "      <td>-71.393726</td>\n",
       "      <td>NaN</td>\n",
       "    </tr>\n",
       "  </tbody>\n",
       "</table>\n",
       "</div>"
      ],
      "text/plain": [
       "        fecha  nro_captura   hora                    full_address  \\\n",
       "0  29/10/2022          1.0  14:57          Andres Chazarreta 7185   \n",
       "1  29/10/2022          NaN  17:00                      Onelli 447   \n",
       "2  30/10/2022          3.0  21:11         Avenida de los Pioneros   \n",
       "3  30/10/2022          4.0   2:06          Moseñor Angelelli 7251   \n",
       "4  31/10/2022          5.0  21:08  Avenida Exequiel Bustillo 8842   \n",
       "5  02/11/2022          6.0  18:45  Avenida Exequiel Bustillo 7966   \n",
       "6  03/11/2022          7.0  10:43                 Tarrago Ros 350   \n",
       "\n",
       "                   direccion  altura    Cod                   Ciudad  \\\n",
       "0          Andres Chazarreta  7185.0  R8402  San Carlos de Bariloche   \n",
       "1                     Onelli   447.0  R8402  San Carlos de Bariloche   \n",
       "2    Avenida de los Pioneros     NaN  R8402  San Carlos de Bariloche   \n",
       "3          Moseñor Angelelli  7251.0  R8402  San Carlos de Bariloche   \n",
       "4  Avenida Exequiel Bustillo  8842.0  R8402  San Carlos de Bariloche   \n",
       "5  Avenida Exequiel Bustillo  7966.0  R8402  San Carlos de Bariloche   \n",
       "6                Tarrago Ros   350.0  R8402  San Carlos de Bariloche   \n",
       "\n",
       "   Provincia    latitud   longitud                                      nota  \n",
       "0  Rio Negro -41.128474 -71.389636                                       NaN  \n",
       "1  Rio Negro -41.137415 -71.298046  fuimos con personal policial a verificar  \n",
       "2  Rio Negro -41.131662 -71.358944                          farmacia la cruz  \n",
       "3  Rio Negro -41.129489 -71.390754                                       NaN  \n",
       "4  Rio Negro -41.117184 -71.404400                                       NaN  \n",
       "5  Rio Negro -41.121872 -71.396660                                       NaN  \n",
       "6  Rio Negro -41.129780 -71.393726                                       NaN  "
      ]
     },
     "execution_count": 4,
     "metadata": {},
     "output_type": "execute_result"
    }
   ],
   "source": [
    "df.head(15)"
   ]
  },
  {
   "cell_type": "code",
   "execution_count": 5,
   "metadata": {},
   "outputs": [
    {
     "data": {
      "application/vnd.plotly.v1+json": {
       "config": {
        "plotlyServerURL": "https://plot.ly"
       },
       "data": [
        {
         "customdata": [
          [
           "Andres Chazarreta"
          ],
          [
           "Onelli"
          ],
          [
           "Avenida de los Pioneros"
          ],
          [
           "Moseñor Angelelli"
          ],
          [
           "Avenida Exequiel Bustillo"
          ],
          [
           "Avenida Exequiel Bustillo"
          ],
          [
           "Tarrago Ros"
          ]
         ],
         "hovertemplate": "<b>%{hovertext}</b><br><br>latitud=%{lat}<br>longitud=%{lon}<br>direccion=%{customdata[0]}<extra></extra>",
         "hovertext": [
          "Andres Chazarreta",
          "Onelli",
          "Avenida de los Pioneros",
          "Moseñor Angelelli",
          "Avenida Exequiel Bustillo",
          "Avenida Exequiel Bustillo",
          "Tarrago Ros"
         ],
         "lat": [
          -41.1284742,
          -41.1374151,
          -41.1316624,
          -41.1294891,
          -41.1171837,
          -41.1218724,
          -41.12978
         ],
         "legendgroup": "",
         "lon": [
          -71.3896361,
          -71.298046,
          -71.3589444,
          -71.3907539,
          -71.4044,
          -71.3966603,
          -71.3937265
         ],
         "marker": {
          "color": "#636efa"
         },
         "mode": "markers",
         "name": "",
         "showlegend": false,
         "subplot": "mapbox",
         "type": "scattermapbox"
        }
       ],
       "layout": {
        "height": 300,
        "hovermode": "x unified",
        "legend": {
         "tracegroupgap": 0,
         "x": 0.01,
         "xanchor": "left",
         "y": 0.99,
         "yanchor": "top"
        },
        "mapbox": {
         "center": {
          "lat": -41.12798241428572,
          "lon": -71.37602388571429
         },
         "domain": {
          "x": [
           0,
           1
          ],
          "y": [
           0,
           1
          ]
         },
         "style": "open-street-map",
         "zoom": 10
        },
        "margin": {
         "b": 0,
         "l": 0,
         "r": 0,
         "t": 0
        },
        "template": {
         "data": {
          "bar": [
           {
            "error_x": {
             "color": "#2a3f5f"
            },
            "error_y": {
             "color": "#2a3f5f"
            },
            "marker": {
             "line": {
              "color": "#E5ECF6",
              "width": 0.5
             },
             "pattern": {
              "fillmode": "overlay",
              "size": 10,
              "solidity": 0.2
             }
            },
            "type": "bar"
           }
          ],
          "barpolar": [
           {
            "marker": {
             "line": {
              "color": "#E5ECF6",
              "width": 0.5
             },
             "pattern": {
              "fillmode": "overlay",
              "size": 10,
              "solidity": 0.2
             }
            },
            "type": "barpolar"
           }
          ],
          "carpet": [
           {
            "aaxis": {
             "endlinecolor": "#2a3f5f",
             "gridcolor": "white",
             "linecolor": "white",
             "minorgridcolor": "white",
             "startlinecolor": "#2a3f5f"
            },
            "baxis": {
             "endlinecolor": "#2a3f5f",
             "gridcolor": "white",
             "linecolor": "white",
             "minorgridcolor": "white",
             "startlinecolor": "#2a3f5f"
            },
            "type": "carpet"
           }
          ],
          "choropleth": [
           {
            "colorbar": {
             "outlinewidth": 0,
             "ticks": ""
            },
            "type": "choropleth"
           }
          ],
          "contour": [
           {
            "colorbar": {
             "outlinewidth": 0,
             "ticks": ""
            },
            "colorscale": [
             [
              0,
              "#0d0887"
             ],
             [
              0.1111111111111111,
              "#46039f"
             ],
             [
              0.2222222222222222,
              "#7201a8"
             ],
             [
              0.3333333333333333,
              "#9c179e"
             ],
             [
              0.4444444444444444,
              "#bd3786"
             ],
             [
              0.5555555555555556,
              "#d8576b"
             ],
             [
              0.6666666666666666,
              "#ed7953"
             ],
             [
              0.7777777777777778,
              "#fb9f3a"
             ],
             [
              0.8888888888888888,
              "#fdca26"
             ],
             [
              1,
              "#f0f921"
             ]
            ],
            "type": "contour"
           }
          ],
          "contourcarpet": [
           {
            "colorbar": {
             "outlinewidth": 0,
             "ticks": ""
            },
            "type": "contourcarpet"
           }
          ],
          "heatmap": [
           {
            "colorbar": {
             "outlinewidth": 0,
             "ticks": ""
            },
            "colorscale": [
             [
              0,
              "#0d0887"
             ],
             [
              0.1111111111111111,
              "#46039f"
             ],
             [
              0.2222222222222222,
              "#7201a8"
             ],
             [
              0.3333333333333333,
              "#9c179e"
             ],
             [
              0.4444444444444444,
              "#bd3786"
             ],
             [
              0.5555555555555556,
              "#d8576b"
             ],
             [
              0.6666666666666666,
              "#ed7953"
             ],
             [
              0.7777777777777778,
              "#fb9f3a"
             ],
             [
              0.8888888888888888,
              "#fdca26"
             ],
             [
              1,
              "#f0f921"
             ]
            ],
            "type": "heatmap"
           }
          ],
          "heatmapgl": [
           {
            "colorbar": {
             "outlinewidth": 0,
             "ticks": ""
            },
            "colorscale": [
             [
              0,
              "#0d0887"
             ],
             [
              0.1111111111111111,
              "#46039f"
             ],
             [
              0.2222222222222222,
              "#7201a8"
             ],
             [
              0.3333333333333333,
              "#9c179e"
             ],
             [
              0.4444444444444444,
              "#bd3786"
             ],
             [
              0.5555555555555556,
              "#d8576b"
             ],
             [
              0.6666666666666666,
              "#ed7953"
             ],
             [
              0.7777777777777778,
              "#fb9f3a"
             ],
             [
              0.8888888888888888,
              "#fdca26"
             ],
             [
              1,
              "#f0f921"
             ]
            ],
            "type": "heatmapgl"
           }
          ],
          "histogram": [
           {
            "marker": {
             "pattern": {
              "fillmode": "overlay",
              "size": 10,
              "solidity": 0.2
             }
            },
            "type": "histogram"
           }
          ],
          "histogram2d": [
           {
            "colorbar": {
             "outlinewidth": 0,
             "ticks": ""
            },
            "colorscale": [
             [
              0,
              "#0d0887"
             ],
             [
              0.1111111111111111,
              "#46039f"
             ],
             [
              0.2222222222222222,
              "#7201a8"
             ],
             [
              0.3333333333333333,
              "#9c179e"
             ],
             [
              0.4444444444444444,
              "#bd3786"
             ],
             [
              0.5555555555555556,
              "#d8576b"
             ],
             [
              0.6666666666666666,
              "#ed7953"
             ],
             [
              0.7777777777777778,
              "#fb9f3a"
             ],
             [
              0.8888888888888888,
              "#fdca26"
             ],
             [
              1,
              "#f0f921"
             ]
            ],
            "type": "histogram2d"
           }
          ],
          "histogram2dcontour": [
           {
            "colorbar": {
             "outlinewidth": 0,
             "ticks": ""
            },
            "colorscale": [
             [
              0,
              "#0d0887"
             ],
             [
              0.1111111111111111,
              "#46039f"
             ],
             [
              0.2222222222222222,
              "#7201a8"
             ],
             [
              0.3333333333333333,
              "#9c179e"
             ],
             [
              0.4444444444444444,
              "#bd3786"
             ],
             [
              0.5555555555555556,
              "#d8576b"
             ],
             [
              0.6666666666666666,
              "#ed7953"
             ],
             [
              0.7777777777777778,
              "#fb9f3a"
             ],
             [
              0.8888888888888888,
              "#fdca26"
             ],
             [
              1,
              "#f0f921"
             ]
            ],
            "type": "histogram2dcontour"
           }
          ],
          "mesh3d": [
           {
            "colorbar": {
             "outlinewidth": 0,
             "ticks": ""
            },
            "type": "mesh3d"
           }
          ],
          "parcoords": [
           {
            "line": {
             "colorbar": {
              "outlinewidth": 0,
              "ticks": ""
             }
            },
            "type": "parcoords"
           }
          ],
          "pie": [
           {
            "automargin": true,
            "type": "pie"
           }
          ],
          "scatter": [
           {
            "fillpattern": {
             "fillmode": "overlay",
             "size": 10,
             "solidity": 0.2
            },
            "type": "scatter"
           }
          ],
          "scatter3d": [
           {
            "line": {
             "colorbar": {
              "outlinewidth": 0,
              "ticks": ""
             }
            },
            "marker": {
             "colorbar": {
              "outlinewidth": 0,
              "ticks": ""
             }
            },
            "type": "scatter3d"
           }
          ],
          "scattercarpet": [
           {
            "marker": {
             "colorbar": {
              "outlinewidth": 0,
              "ticks": ""
             }
            },
            "type": "scattercarpet"
           }
          ],
          "scattergeo": [
           {
            "marker": {
             "colorbar": {
              "outlinewidth": 0,
              "ticks": ""
             }
            },
            "type": "scattergeo"
           }
          ],
          "scattergl": [
           {
            "marker": {
             "colorbar": {
              "outlinewidth": 0,
              "ticks": ""
             }
            },
            "type": "scattergl"
           }
          ],
          "scattermapbox": [
           {
            "marker": {
             "colorbar": {
              "outlinewidth": 0,
              "ticks": ""
             }
            },
            "type": "scattermapbox"
           }
          ],
          "scatterpolar": [
           {
            "marker": {
             "colorbar": {
              "outlinewidth": 0,
              "ticks": ""
             }
            },
            "type": "scatterpolar"
           }
          ],
          "scatterpolargl": [
           {
            "marker": {
             "colorbar": {
              "outlinewidth": 0,
              "ticks": ""
             }
            },
            "type": "scatterpolargl"
           }
          ],
          "scatterternary": [
           {
            "marker": {
             "colorbar": {
              "outlinewidth": 0,
              "ticks": ""
             }
            },
            "type": "scatterternary"
           }
          ],
          "surface": [
           {
            "colorbar": {
             "outlinewidth": 0,
             "ticks": ""
            },
            "colorscale": [
             [
              0,
              "#0d0887"
             ],
             [
              0.1111111111111111,
              "#46039f"
             ],
             [
              0.2222222222222222,
              "#7201a8"
             ],
             [
              0.3333333333333333,
              "#9c179e"
             ],
             [
              0.4444444444444444,
              "#bd3786"
             ],
             [
              0.5555555555555556,
              "#d8576b"
             ],
             [
              0.6666666666666666,
              "#ed7953"
             ],
             [
              0.7777777777777778,
              "#fb9f3a"
             ],
             [
              0.8888888888888888,
              "#fdca26"
             ],
             [
              1,
              "#f0f921"
             ]
            ],
            "type": "surface"
           }
          ],
          "table": [
           {
            "cells": {
             "fill": {
              "color": "#EBF0F8"
             },
             "line": {
              "color": "white"
             }
            },
            "header": {
             "fill": {
              "color": "#C8D4E3"
             },
             "line": {
              "color": "white"
             }
            },
            "type": "table"
           }
          ]
         },
         "layout": {
          "annotationdefaults": {
           "arrowcolor": "#2a3f5f",
           "arrowhead": 0,
           "arrowwidth": 1
          },
          "autotypenumbers": "strict",
          "coloraxis": {
           "colorbar": {
            "outlinewidth": 0,
            "ticks": ""
           }
          },
          "colorscale": {
           "diverging": [
            [
             0,
             "#8e0152"
            ],
            [
             0.1,
             "#c51b7d"
            ],
            [
             0.2,
             "#de77ae"
            ],
            [
             0.3,
             "#f1b6da"
            ],
            [
             0.4,
             "#fde0ef"
            ],
            [
             0.5,
             "#f7f7f7"
            ],
            [
             0.6,
             "#e6f5d0"
            ],
            [
             0.7,
             "#b8e186"
            ],
            [
             0.8,
             "#7fbc41"
            ],
            [
             0.9,
             "#4d9221"
            ],
            [
             1,
             "#276419"
            ]
           ],
           "sequential": [
            [
             0,
             "#0d0887"
            ],
            [
             0.1111111111111111,
             "#46039f"
            ],
            [
             0.2222222222222222,
             "#7201a8"
            ],
            [
             0.3333333333333333,
             "#9c179e"
            ],
            [
             0.4444444444444444,
             "#bd3786"
            ],
            [
             0.5555555555555556,
             "#d8576b"
            ],
            [
             0.6666666666666666,
             "#ed7953"
            ],
            [
             0.7777777777777778,
             "#fb9f3a"
            ],
            [
             0.8888888888888888,
             "#fdca26"
            ],
            [
             1,
             "#f0f921"
            ]
           ],
           "sequentialminus": [
            [
             0,
             "#0d0887"
            ],
            [
             0.1111111111111111,
             "#46039f"
            ],
            [
             0.2222222222222222,
             "#7201a8"
            ],
            [
             0.3333333333333333,
             "#9c179e"
            ],
            [
             0.4444444444444444,
             "#bd3786"
            ],
            [
             0.5555555555555556,
             "#d8576b"
            ],
            [
             0.6666666666666666,
             "#ed7953"
            ],
            [
             0.7777777777777778,
             "#fb9f3a"
            ],
            [
             0.8888888888888888,
             "#fdca26"
            ],
            [
             1,
             "#f0f921"
            ]
           ]
          },
          "colorway": [
           "#636efa",
           "#EF553B",
           "#00cc96",
           "#ab63fa",
           "#FFA15A",
           "#19d3f3",
           "#FF6692",
           "#B6E880",
           "#FF97FF",
           "#FECB52"
          ],
          "font": {
           "color": "#2a3f5f"
          },
          "geo": {
           "bgcolor": "white",
           "lakecolor": "white",
           "landcolor": "#E5ECF6",
           "showlakes": true,
           "showland": true,
           "subunitcolor": "white"
          },
          "hoverlabel": {
           "align": "left"
          },
          "hovermode": "closest",
          "mapbox": {
           "style": "light"
          },
          "paper_bgcolor": "white",
          "plot_bgcolor": "#E5ECF6",
          "polar": {
           "angularaxis": {
            "gridcolor": "white",
            "linecolor": "white",
            "ticks": ""
           },
           "bgcolor": "#E5ECF6",
           "radialaxis": {
            "gridcolor": "white",
            "linecolor": "white",
            "ticks": ""
           }
          },
          "scene": {
           "xaxis": {
            "backgroundcolor": "#E5ECF6",
            "gridcolor": "white",
            "gridwidth": 2,
            "linecolor": "white",
            "showbackground": true,
            "ticks": "",
            "zerolinecolor": "white"
           },
           "yaxis": {
            "backgroundcolor": "#E5ECF6",
            "gridcolor": "white",
            "gridwidth": 2,
            "linecolor": "white",
            "showbackground": true,
            "ticks": "",
            "zerolinecolor": "white"
           },
           "zaxis": {
            "backgroundcolor": "#E5ECF6",
            "gridcolor": "white",
            "gridwidth": 2,
            "linecolor": "white",
            "showbackground": true,
            "ticks": "",
            "zerolinecolor": "white"
           }
          },
          "shapedefaults": {
           "line": {
            "color": "#2a3f5f"
           }
          },
          "ternary": {
           "aaxis": {
            "gridcolor": "white",
            "linecolor": "white",
            "ticks": ""
           },
           "baxis": {
            "gridcolor": "white",
            "linecolor": "white",
            "ticks": ""
           },
           "bgcolor": "#E5ECF6",
           "caxis": {
            "gridcolor": "white",
            "linecolor": "white",
            "ticks": ""
           }
          },
          "title": {
           "x": 0.05
          },
          "xaxis": {
           "automargin": true,
           "gridcolor": "white",
           "linecolor": "white",
           "ticks": "",
           "title": {
            "standoff": 15
           },
           "zerolinecolor": "white",
           "zerolinewidth": 2
          },
          "yaxis": {
           "automargin": true,
           "gridcolor": "white",
           "linecolor": "white",
           "ticks": "",
           "title": {
            "standoff": 15
           },
           "zerolinecolor": "white",
           "zerolinewidth": 2
          }
         }
        }
       }
      }
     },
     "metadata": {},
     "output_type": "display_data"
    }
   ],
   "source": [
    "import plotly.express as px\n",
    "\n",
    "fig = px.scatter_mapbox(df, lat=\"latitud\", lon=\"longitud\", hover_name=\"direccion\", hover_data=[\"direccion\"],\n",
    "                            \n",
    "                           zoom=10, height=300) #\n",
    "\n",
    "fig.update_layout(hovermode='x unified') \n",
    "#    \n",
    "fig.update_layout(legend=dict(yanchor=\"top\",y=0.99,xanchor=\"left\",x=0.01)) #to use legend inside of plot\n",
    "fig.update_layout(mapbox_style=\"open-street-map\")\n",
    "fig.update_layout(margin={\"r\":0,\"t\":0,\"l\":0,\"b\":0})\n",
    "fig.show()"
   ]
  },
  {
   "cell_type": "code",
   "execution_count": 6,
   "metadata": {},
   "outputs": [],
   "source": [
    "#export to html\n",
    "fig.write_html(\"index.html\")\n"
   ]
  }
 ],
 "metadata": {
  "kernelspec": {
   "display_name": "Python 3.10.6 64-bit",
   "language": "python",
   "name": "python3"
  },
  "language_info": {
   "codemirror_mode": {
    "name": "ipython",
    "version": 3
   },
   "file_extension": ".py",
   "mimetype": "text/x-python",
   "name": "python",
   "nbconvert_exporter": "python",
   "pygments_lexer": "ipython3",
   "version": "3.10.6"
  },
  "orig_nbformat": 4,
  "vscode": {
   "interpreter": {
    "hash": "aee8b7b246df8f9039afb4144a1f6fd8d2ca17a180786b69acc140d282b71a49"
   }
  }
 },
 "nbformat": 4,
 "nbformat_minor": 2
}
